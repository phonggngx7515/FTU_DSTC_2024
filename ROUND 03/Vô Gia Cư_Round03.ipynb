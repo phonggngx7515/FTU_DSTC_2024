{
  "cells": [
    {
      "cell_type": "code",
      "execution_count": 1,
      "metadata": {
        "id": "PTrh_foobK2T"
      },
      "outputs": [],
      "source": [
        "import numpy as np\n",
        "import pandas as pd\n",
        "import matplotlib.pyplot as plt\n",
        "import seaborn as sns"
      ]
    },
    {
      "cell_type": "code",
      "execution_count": 2,
      "metadata": {
        "id": "U5-LLV4ZbK2W"
      },
      "outputs": [],
      "source": [
        "file_path = \"01_dataset.csv\"\n",
        "source = pd.read_csv(file_path)"
      ]
    },
    {
      "cell_type": "code",
      "execution_count": 3,
      "metadata": {
        "id": "tmownnTZuN4r"
      },
      "outputs": [],
      "source": [
        "df = source.copy()"
      ]
    },
    {
      "cell_type": "code",
      "execution_count": 4,
      "metadata": {
        "colab": {
          "base_uri": "https://localhost:8080/"
        },
        "id": "idbXtSeSbK2W",
        "outputId": "749adacb-4ced-4aaa-8eed-ca11253777c8"
      },
      "outputs": [
        {
          "name": "stdout",
          "output_type": "stream",
          "text": [
            "   customer_id  label  SHORT_TERM_COUNT  MID_TERM_COUNT  LONG_TERM_COUNT  \\\n",
            "0         1639      1               1.0             1.0              1.0   \n",
            "1        23717      0              10.0             1.0              NaN   \n",
            "2        19474      0               7.0             7.0              NaN   \n",
            "3        15505      0               7.0             1.0              1.0   \n",
            "4         1538      1               NaN             NaN              1.0   \n",
            "\n",
            "   SHORT_TERM_COUNT_BANK  MID_TERM_COUNT_BANK  LONG_TERM_COUNT_BANK  \\\n",
            "0                    1.0                  1.0                   1.0   \n",
            "1                    7.0                  1.0                   1.0   \n",
            "2                    7.0                  NaN                   1.0   \n",
            "3                    NaN                  1.0                   NaN   \n",
            "4                    1.0                  1.0                   1.0   \n",
            "\n",
            "   SHORT_TERM_COUNT_NON_BANK  MID_TERM_COUNT_NON_BANK  ...  \\\n",
            "0                        1.0                      1.0  ...   \n",
            "1                        4.0                      NaN  ...   \n",
            "2                        1.0                      4.0  ...   \n",
            "3                        7.0                      1.0  ...   \n",
            "4                        1.0                      4.0  ...   \n",
            "\n",
            "   ENQUIRIES_FROM_BANK_6M_9M  ENQUIRIES_FROM_BANK_9M_12M  \\\n",
            "0                        NaN                    2.000000   \n",
            "1                   2.000000                    7.000000   \n",
            "2                   7.000000                    5.571429   \n",
            "3                   6.090909                    7.000000   \n",
            "4                   2.000000                    2.000000   \n",
            "\n",
            "   ENQUIRIES_FROM_BANK_6M_12M  ENQUIRIES_FROM_BANK_3M_12M  \\\n",
            "0                    2.000000                    2.000000   \n",
            "1                    2.000000                    2.000000   \n",
            "2                    5.571429                    5.571429   \n",
            "3                         NaN                         NaN   \n",
            "4                    2.000000                    2.000000   \n",
            "\n",
            "   ENQUIRIES_FROM_NON_BANK_3M_6M  ENQUIRIES_FROM_NON_BANK_6M_9M  \\\n",
            "0                       7.000000                       3.666667   \n",
            "1                       7.000000                       7.000000   \n",
            "2                       7.000000                       7.000000   \n",
            "3                       4.500000                       5.333333   \n",
            "4                       3.666667                       7.000000   \n",
            "\n",
            "   ENQUIRIES_FROM_NON_BANK_9M_12M  ENQUIRIES_FROM_NON_BANK_6M_12M  \\\n",
            "0                             7.0                        3.666667   \n",
            "1                             7.0                        7.000000   \n",
            "2                             7.0                        7.000000   \n",
            "3                             7.0                        5.333333   \n",
            "4                             7.0                        7.000000   \n",
            "\n",
            "   ENQUIRIES_FROM_NON_BANK_3M_12M  OUTSTANDING_BAL_ALL_CURRENT  \n",
            "0                        3.666667                    1000000.0  \n",
            "1                        7.000000                          NaN  \n",
            "2                        7.000000                    1000620.0  \n",
            "3                        3.666667                    1000170.0  \n",
            "4                        3.666667                    1000270.0  \n",
            "\n",
            "[5 rows x 124 columns]\n"
          ]
        }
      ],
      "source": [
        "print(df.head())"
      ]
    },
    {
      "cell_type": "code",
      "execution_count": 5,
      "metadata": {
        "colab": {
          "base_uri": "https://localhost:8080/"
        },
        "id": "_i3bff6DbK2X",
        "outputId": "f203bfde-22db-4607-aa0f-444c48a62a7f"
      },
      "outputs": [
        {
          "name": "stdout",
          "output_type": "stream",
          "text": [
            "<class 'pandas.core.frame.DataFrame'>\n",
            "RangeIndex: 20000 entries, 0 to 19999\n",
            "Columns: 124 entries, customer_id to OUTSTANDING_BAL_ALL_CURRENT\n",
            "dtypes: float64(122), int64(2)\n",
            "memory usage: 18.9 MB\n",
            "None\n"
          ]
        }
      ],
      "source": [
        "print(df.info())"
      ]
    },
    {
      "cell_type": "code",
      "execution_count": 6,
      "metadata": {
        "colab": {
          "base_uri": "https://localhost:8080/"
        },
        "id": "zvUvqZ3TbK2X",
        "outputId": "555e0e32-794e-45e7-a2f9-fa2c60d318b9"
      },
      "outputs": [
        {
          "name": "stdout",
          "output_type": "stream",
          "text": [
            "        customer_id         label  SHORT_TERM_COUNT  MID_TERM_COUNT  \\\n",
            "count  20000.000000  20000.000000      18000.000000    18000.000000   \n",
            "mean   12805.812050      0.182200          6.040667        3.316833   \n",
            "std     7405.225854      0.386019          3.620554        3.147751   \n",
            "min        0.000000      0.000000          1.000000        1.000000   \n",
            "25%     6374.750000      0.000000          4.000000        1.000000   \n",
            "50%    12840.500000      0.000000          7.000000        1.000000   \n",
            "75%    19206.250000      0.000000          7.000000        4.000000   \n",
            "max    25659.000000      1.000000         25.000000       25.000000   \n",
            "\n",
            "       LONG_TERM_COUNT  SHORT_TERM_COUNT_BANK  MID_TERM_COUNT_BANK  \\\n",
            "count     18000.000000           18000.000000         18000.000000   \n",
            "mean          1.063333               3.177000             1.610500   \n",
            "std           0.446094               2.211548             1.547231   \n",
            "min           1.000000               1.000000             1.000000   \n",
            "25%           1.000000               1.000000             1.000000   \n",
            "50%           1.000000               4.000000             1.000000   \n",
            "75%           1.000000               4.000000             1.000000   \n",
            "max           7.000000              13.000000            22.000000   \n",
            "\n",
            "       LONG_TERM_COUNT_BANK  SHORT_TERM_COUNT_NON_BANK  \\\n",
            "count          18000.000000               18000.000000   \n",
            "mean               1.061333                   3.850500   \n",
            "std                0.437320                   2.550394   \n",
            "min                1.000000                   1.000000   \n",
            "25%                1.000000                   1.000000   \n",
            "50%                1.000000                   4.000000   \n",
            "75%                1.000000                   4.000000   \n",
            "max                7.000000                  16.000000   \n",
            "\n",
            "       MID_TERM_COUNT_NON_BANK  ...  ENQUIRIES_FROM_BANK_6M_9M  \\\n",
            "count             18000.000000  ...               18000.000000   \n",
            "mean                  2.730833  ...                   1.524688   \n",
            "std                   2.519339  ...                   4.182101   \n",
            "min                   1.000000  ...                  -3.000000   \n",
            "25%                   1.000000  ...                  -3.000000   \n",
            "50%                   1.000000  ...                   2.000000   \n",
            "75%                   4.000000  ...                   7.000000   \n",
            "max                  19.000000  ...                   7.000000   \n",
            "\n",
            "       ENQUIRIES_FROM_BANK_9M_12M  ENQUIRIES_FROM_BANK_6M_12M  \\\n",
            "count                18000.000000                18000.000000   \n",
            "mean                     1.956620                    1.531301   \n",
            "std                      4.304385                    3.967109   \n",
            "min                     -3.000000                   -3.000000   \n",
            "25%                     -3.000000                   -3.000000   \n",
            "50%                      2.000000                    2.000000   \n",
            "75%                      7.000000                    5.333333   \n",
            "max                      7.000000                    7.000000   \n",
            "\n",
            "       ENQUIRIES_FROM_BANK_3M_12M  ENQUIRIES_FROM_NON_BANK_3M_6M  \\\n",
            "count                18000.000000                   18000.000000   \n",
            "mean                     1.013238                       6.458641   \n",
            "std                      3.560061                       1.147119   \n",
            "min                     -3.000000                       2.000000   \n",
            "25%                     -3.000000                       7.000000   \n",
            "50%                      2.000000                       7.000000   \n",
            "75%                      3.000000                       7.000000   \n",
            "max                      7.000000                       7.000000   \n",
            "\n",
            "       ENQUIRIES_FROM_NON_BANK_6M_9M  ENQUIRIES_FROM_NON_BANK_9M_12M  \\\n",
            "count                   18000.000000                    18000.000000   \n",
            "mean                        6.591671                        6.691829   \n",
            "std                         1.022613                        0.914260   \n",
            "min                         2.000000                        2.000000   \n",
            "25%                         7.000000                        7.000000   \n",
            "50%                         7.000000                        7.000000   \n",
            "75%                         7.000000                        7.000000   \n",
            "max                         7.000000                        7.000000   \n",
            "\n",
            "       ENQUIRIES_FROM_NON_BANK_6M_12M  ENQUIRIES_FROM_NON_BANK_3M_12M  \\\n",
            "count                    18000.000000                    18000.000000   \n",
            "mean                         6.402545                        6.006104   \n",
            "std                          1.177294                        1.431080   \n",
            "min                          2.000000                        2.000000   \n",
            "25%                          7.000000                        4.500000   \n",
            "50%                          7.000000                        7.000000   \n",
            "75%                          7.000000                        7.000000   \n",
            "max                          7.000000                        7.000000   \n",
            "\n",
            "       OUTSTANDING_BAL_ALL_CURRENT  \n",
            "count                 1.800000e+04  \n",
            "mean                  1.000943e+06  \n",
            "std                   4.007350e+03  \n",
            "min                   1.000000e+06  \n",
            "25%                   1.000100e+06  \n",
            "50%                   1.000290e+06  \n",
            "75%                   1.000770e+06  \n",
            "max                   1.169190e+06  \n",
            "\n",
            "[8 rows x 124 columns]\n"
          ]
        }
      ],
      "source": [
        "print(df.describe())"
      ]
    },
    {
      "cell_type": "code",
      "execution_count": 7,
      "metadata": {
        "colab": {
          "base_uri": "https://localhost:8080/"
        },
        "id": "DZ-nNEF0bK2Y",
        "outputId": "71f613cf-a1b2-42cd-98e9-3af3e52b3fcb"
      },
      "outputs": [
        {
          "name": "stdout",
          "output_type": "stream",
          "text": [
            "customer_id                          0\n",
            "label                                0\n",
            "SHORT_TERM_COUNT                  2000\n",
            "MID_TERM_COUNT                    2000\n",
            "LONG_TERM_COUNT                   2000\n",
            "                                  ... \n",
            "ENQUIRIES_FROM_NON_BANK_6M_9M     2000\n",
            "ENQUIRIES_FROM_NON_BANK_9M_12M    2000\n",
            "ENQUIRIES_FROM_NON_BANK_6M_12M    2000\n",
            "ENQUIRIES_FROM_NON_BANK_3M_12M    2000\n",
            "OUTSTANDING_BAL_ALL_CURRENT       2000\n",
            "Length: 124, dtype: int64\n"
          ]
        }
      ],
      "source": [
        "print(df.isnull().sum())"
      ]
    },
    {
      "cell_type": "code",
      "execution_count": 8,
      "metadata": {
        "id": "ITsg8Wx7bK2Y"
      },
      "outputs": [],
      "source": [
        "def fill_Bank_Non_bank(x):\n",
        "    global df\n",
        "    df[x] = df[x].fillna(df[x + \"_BANK\"] + df[x + \"_NON_BANK\"] - 1)\n",
        "    df[x + \"_BANK\"] = df[x + \"_BANK\"].fillna(df[x] + 1 - df[x + \"_NON_BANK\"])\n",
        "    df[x + \"_NON_BANK\"] = df[x + \"_NON_BANK\"].fillna(df[x] + 1 - df[x + \"_BANK\"])\n",
        "    return\n",
        "\n",
        "Bank_Non_bank_List = ['LONG_TERM_COUNT', 'SHORT_TERM_COUNT', 'NUMBER_OF_LOANS', 'NUMBER_OF_CREDIT_CARDS', 'NUMBER_OF_RELATIONSHIP', 'MID_TERM_COUNT']\n",
        "\n",
        "def Solve1():\n",
        "    for name in Bank_Non_bank_List:\n",
        "        fill_Bank_Non_bank(name)\n",
        "    return\n",
        "\n",
        "# print(df)"
      ]
    },
    {
      "cell_type": "code",
      "execution_count": 9,
      "metadata": {
        "id": "JS4JRObAbK2Y"
      },
      "outputs": [],
      "source": [
        "def fill_Different_features(x, y, z):\n",
        "    global df\n",
        "    df[x] = df[x].fillna(df[y] + df[z] - 1)\n",
        "    df[y] = df[y].fillna(df[x] + 1 - df[z])\n",
        "    df[z] = df[z].fillna(df[x] + 1 - df[y])\n",
        "    return\n",
        "\n",
        "def Solve2():\n",
        "    fill_Different_features('NUMBER_OF_RELATIONSHIP', 'NUMBER_OF_LOANS', 'NUMBER_OF_CREDIT_CARDS')\n",
        "    fill_Different_features('NUMBER_OF_RELATIONSHIP_BANK', 'NUMBER_OF_LOANS_BANK', 'NUMBER_OF_CREDIT_CARDS_BANK')\n",
        "    fill_Different_features('NUMBER_OF_RELATIONSHIP_NON_BANK', 'NUMBER_OF_LOANS_NON_BANK', 'NUMBER_OF_CREDIT_CARDS_NON_BANK')\n",
        "    return\n",
        "\n",
        "# print(df)"
      ]
    },
    {
      "cell_type": "code",
      "execution_count": 10,
      "metadata": {
        "id": "-FyFWGCobK2Z"
      },
      "outputs": [],
      "source": [
        "def fill_Different_features_2(x, y, z, t):\n",
        "    global df\n",
        "    df[t] = df[t].fillna(df[x] + df[y] + df[z] - 2)\n",
        "    df[x] = df[x].fillna(df[t] + 2 - (df[y] + df[z]))\n",
        "    df[y] = df[y].fillna(df[t] + 2 - (df[x] + df[z]))\n",
        "    df[z] = df[z].fillna(df[t] + 2 - (df[x] + df[y]))\n",
        "    return\n",
        "\n",
        "\n",
        "def Solve3():\n",
        "    fill_Different_features_2('SHORT_TERM_COUNT', 'MID_TERM_COUNT', 'LONG_TERM_COUNT', 'NUMBER_OF_LOANS')\n",
        "    fill_Different_features_2('SHORT_TERM_COUNT_BANK', 'MID_TERM_COUNT_BANK', 'LONG_TERM_COUNT_BANK', 'NUMBER_OF_LOANS_BANK')\n",
        "    fill_Different_features_2('SHORT_TERM_COUNT_NON_BANK', 'MID_TERM_COUNT_NON_BANK', 'LONG_TERM_COUNT_NON_BANK', 'NUMBER_OF_LOANS_NON_BANK')\n",
        "    return"
      ]
    },
    {
      "cell_type": "code",
      "execution_count": 11,
      "metadata": {
        "id": "lj-fUPz9bK2Z"
      },
      "outputs": [],
      "source": [
        "Solve1()\n",
        "Solve2()\n",
        "Solve1()\n",
        "Solve3()\n",
        "Solve1()\n",
        "Solve2()\n",
        "Solve1()\n",
        "Solve3()\n",
        "Solve1()"
      ]
    },
    {
      "cell_type": "code",
      "execution_count": 12,
      "metadata": {
        "colab": {
          "base_uri": "https://localhost:8080/"
        },
        "id": "hp780__EbK2a",
        "outputId": "f6f84e51-a0e5-4be9-d624-39f6ff082a22"
      },
      "outputs": [
        {
          "name": "stdout",
          "output_type": "stream",
          "text": [
            "LONG_TERM_COUNT : 7\n",
            "LONG_TERM_COUNT_BANK : 8\n",
            "LONG_TERM_COUNT_NON_BANK : 7\n",
            "SHORT_TERM_COUNT : 8\n",
            "SHORT_TERM_COUNT_BANK : 8\n",
            "SHORT_TERM_COUNT_NON_BANK : 8\n",
            "NUMBER_OF_LOANS : 0\n",
            "NUMBER_OF_LOANS_BANK : 0\n",
            "NUMBER_OF_LOANS_NON_BANK : 0\n",
            "NUMBER_OF_CREDIT_CARDS : 3\n",
            "NUMBER_OF_CREDIT_CARDS_BANK : 3\n",
            "NUMBER_OF_CREDIT_CARDS_NON_BANK : 4\n",
            "NUMBER_OF_RELATIONSHIP : 3\n",
            "NUMBER_OF_RELATIONSHIP_BANK : 3\n",
            "NUMBER_OF_RELATIONSHIP_NON_BANK : 4\n",
            "MID_TERM_COUNT : 7\n",
            "MID_TERM_COUNT_BANK : 8\n",
            "MID_TERM_COUNT_NON_BANK : 3\n"
          ]
        }
      ],
      "source": [
        "for name in Bank_Non_bank_List:\n",
        "    print(name, ':', df[name].isnull().sum())\n",
        "    print(name + \"_BANK\", ':', df[name + \"_BANK\"].isnull().sum())\n",
        "    print(name + \"_NON_BANK\", ':', df[name + \"_NON_BANK\"].isnull().sum())"
      ]
    },
    {
      "cell_type": "code",
      "execution_count": 13,
      "metadata": {
        "id": "afRa59MdbK2b"
      },
      "outputs": [],
      "source": [
        "def NaN_NullCheck(row):\n",
        "    for name in Bank_Non_bank_List:\n",
        "        if pd.isnull(row[name]): return True\n",
        "    return False\n",
        "\n",
        "temp = df[df.apply(NaN_NullCheck, axis=1)]\n",
        "\n",
        "df = df[~df.apply(NaN_NullCheck, axis=1)]"
      ]
    },
    {
      "cell_type": "code",
      "execution_count": 14,
      "metadata": {
        "colab": {
          "base_uri": "https://localhost:8080/"
        },
        "collapsed": true,
        "id": "R27CRnqQdCJN",
        "outputId": "08071872-a5bc-4fd6-cde0-36cea8f0d3fe"
      },
      "outputs": [],
      "source": [
        "# Chỉnh sửa giá trị NaN cho cột 12M\n",
        "df['NUM_NEW_LOAN_TAKEN_12M'] = df['NUM_NEW_LOAN_TAKEN_12M'].fillna(df['NUM_NEW_LOAN_TAKEN_BANK_12M'] + df['NUM_NEW_LOAN_TAKEN_NON_BANK_12M'])\n",
        "df['NUM_NEW_LOAN_TAKEN_BANK_12M'] = df['NUM_NEW_LOAN_TAKEN_BANK_12M'].fillna(df['NUM_NEW_LOAN_TAKEN_12M'] - df['NUM_NEW_LOAN_TAKEN_NON_BANK_12M'])\n",
        "df['NUM_NEW_LOAN_TAKEN_NON_BANK_12M'] = df['NUM_NEW_LOAN_TAKEN_NON_BANK_12M'].fillna(df['NUM_NEW_LOAN_TAKEN_12M'] - df['NUM_NEW_LOAN_TAKEN_BANK_12M'])\n",
        "\n",
        "# Chỉnh sửa giá trị NaN cho cột 9M\n",
        "df['NUM_NEW_LOAN_TAKEN_9M'] = df['NUM_NEW_LOAN_TAKEN_9M'].fillna(df['NUM_NEW_LOAN_TAKEN_BANK_9M'] + df['NUM_NEW_LOAN_TAKEN_NON_BANK_9M'])\n",
        "df['NUM_NEW_LOAN_TAKEN_BANK_9M'] = df['NUM_NEW_LOAN_TAKEN_BANK_9M'].fillna(df['NUM_NEW_LOAN_TAKEN_9M'] - df['NUM_NEW_LOAN_TAKEN_NON_BANK_9M'])\n",
        "df['NUM_NEW_LOAN_TAKEN_NON_BANK_9M'] = df['NUM_NEW_LOAN_TAKEN_NON_BANK_9M'].fillna(df['NUM_NEW_LOAN_TAKEN_9M'] - df['NUM_NEW_LOAN_TAKEN_BANK_9M'])\n",
        "\n",
        "# Chỉnh sửa giá trị NaN cho cột 6M\n",
        "df['NUM_NEW_LOAN_TAKEN_6M'] = df['NUM_NEW_LOAN_TAKEN_6M'].fillna(df['NUM_NEW_LOAN_TAKEN_BANK_6M'] + df['NUM_NEW_LOAN_TAKEN_NON_BANK_6M'])\n",
        "df['NUM_NEW_LOAN_TAKEN_BANK_6M'] = df['NUM_NEW_LOAN_TAKEN_BANK_6M'].fillna(df['NUM_NEW_LOAN_TAKEN_6M'] - df['NUM_NEW_LOAN_TAKEN_NON_BANK_6M'])\n",
        "df['NUM_NEW_LOAN_TAKEN_NON_BANK_6M'] = df['NUM_NEW_LOAN_TAKEN_NON_BANK_6M'].fillna(df['NUM_NEW_LOAN_TAKEN_6M'] - df['NUM_NEW_LOAN_TAKEN_BANK_6M'])\n",
        "\n",
        "# Chỉnh sửa giá trị NaN cho cột 3M\n",
        "df['NUM_NEW_LOAN_TAKEN_3M'] = df['NUM_NEW_LOAN_TAKEN_3M'].fillna(df['NUM_NEW_LOAN_TAKEN_BANK_3M'] + df['NUM_NEW_LOAN_TAKEN_NON_BANK_3M'])\n",
        "df['NUM_NEW_LOAN_TAKEN_BANK_3M'] = df['NUM_NEW_LOAN_TAKEN_BANK_3M'].fillna(df['NUM_NEW_LOAN_TAKEN_3M'] - df['NUM_NEW_LOAN_TAKEN_NON_BANK_3M'])\n",
        "df['NUM_NEW_LOAN_TAKEN_NON_BANK_3M'] = df['NUM_NEW_LOAN_TAKEN_NON_BANK_3M'].fillna(df['NUM_NEW_LOAN_TAKEN_3M'] - df['NUM_NEW_LOAN_TAKEN_BANK_3M'])\n"
      ]
    },
    {
      "cell_type": "code",
      "execution_count": 15,
      "metadata": {
        "colab": {
          "base_uri": "https://localhost:8080/"
        },
        "collapsed": true,
        "id": "30IiHcQBbK2b",
        "outputId": "3c1f7d0f-acb1-46c6-b6fc-ad7a43d721fa"
      },
      "outputs": [
        {
          "name": "stdout",
          "output_type": "stream",
          "text": [
            "       customer_id  label  SHORT_TERM_COUNT  MID_TERM_COUNT  LONG_TERM_COUNT  \\\n",
            "0             1639      1               1.0             1.0              1.0   \n",
            "1            23717      0              10.0             1.0              1.0   \n",
            "2            19474      0               7.0             7.0              1.0   \n",
            "3            15505      0               7.0             1.0              1.0   \n",
            "4             1538      1               1.0             4.0              1.0   \n",
            "...            ...    ...               ...             ...              ...   \n",
            "19995        13215      0               4.0             1.0              1.0   \n",
            "19996          938      0               4.0             1.0              1.0   \n",
            "19997        11823      0               7.0             1.0              1.0   \n",
            "19998        14609      0              10.0             4.0              1.0   \n",
            "19999        18772      1               1.0             4.0              1.0   \n",
            "\n",
            "       SHORT_TERM_COUNT_BANK  MID_TERM_COUNT_BANK  LONG_TERM_COUNT_BANK  \\\n",
            "0                        1.0                  1.0                   1.0   \n",
            "1                        7.0                  1.0                   1.0   \n",
            "2                        7.0                  4.0                   1.0   \n",
            "3                        1.0                  1.0                   1.0   \n",
            "4                        1.0                  1.0                   1.0   \n",
            "...                      ...                  ...                   ...   \n",
            "19995                    4.0                  1.0                   1.0   \n",
            "19996                    1.0                  1.0                   1.0   \n",
            "19997                    4.0                  1.0                   1.0   \n",
            "19998                   10.0                  1.0                   1.0   \n",
            "19999                    1.0                  1.0                   1.0   \n",
            "\n",
            "       SHORT_TERM_COUNT_NON_BANK  MID_TERM_COUNT_NON_BANK  ...  \\\n",
            "0                            1.0                      1.0  ...   \n",
            "1                            4.0                      1.0  ...   \n",
            "2                            1.0                      4.0  ...   \n",
            "3                            7.0                      1.0  ...   \n",
            "4                            1.0                      4.0  ...   \n",
            "...                          ...                      ...  ...   \n",
            "19995                        1.0                      1.0  ...   \n",
            "19996                        4.0                      1.0  ...   \n",
            "19997                        4.0                      1.0  ...   \n",
            "19998                        1.0                      4.0  ...   \n",
            "19999                        1.0                      4.0  ...   \n",
            "\n",
            "       ENQUIRIES_FROM_BANK_6M_9M  ENQUIRIES_FROM_BANK_9M_12M  \\\n",
            "0                            NaN                    2.000000   \n",
            "1                       2.000000                    7.000000   \n",
            "2                       7.000000                    5.571429   \n",
            "3                       6.090909                    7.000000   \n",
            "4                       2.000000                    2.000000   \n",
            "...                          ...                         ...   \n",
            "19995                  -3.000000                         NaN   \n",
            "19996                   2.000000                         NaN   \n",
            "19997                        NaN                    7.000000   \n",
            "19998                   7.000000                    4.857143   \n",
            "19999                   2.000000                         NaN   \n",
            "\n",
            "       ENQUIRIES_FROM_BANK_6M_12M  ENQUIRIES_FROM_BANK_3M_12M  \\\n",
            "0                        2.000000                    2.000000   \n",
            "1                        2.000000                    2.000000   \n",
            "2                        5.571429                    5.571429   \n",
            "3                             NaN                         NaN   \n",
            "4                        2.000000                    2.000000   \n",
            "...                           ...                         ...   \n",
            "19995                         NaN                   -3.000000   \n",
            "19996                    2.000000                    2.000000   \n",
            "19997                    7.000000                    4.222222   \n",
            "19998                    4.857143                    3.428571   \n",
            "19999                         NaN                    2.000000   \n",
            "\n",
            "       ENQUIRIES_FROM_NON_BANK_3M_6M  ENQUIRIES_FROM_NON_BANK_6M_9M  \\\n",
            "0                           7.000000                       3.666667   \n",
            "1                           7.000000                       7.000000   \n",
            "2                           7.000000                       7.000000   \n",
            "3                           4.500000                       5.333333   \n",
            "4                           3.666667                       7.000000   \n",
            "...                              ...                            ...   \n",
            "19995                            NaN                       7.000000   \n",
            "19996                       7.000000                       7.000000   \n",
            "19997                       7.000000                       7.000000   \n",
            "19998                       7.000000                       7.000000   \n",
            "19999                            NaN                       7.000000   \n",
            "\n",
            "       ENQUIRIES_FROM_NON_BANK_9M_12M  ENQUIRIES_FROM_NON_BANK_6M_12M  \\\n",
            "0                            7.000000                        3.666667   \n",
            "1                            7.000000                        7.000000   \n",
            "2                            7.000000                        7.000000   \n",
            "3                            7.000000                        5.333333   \n",
            "4                            7.000000                        7.000000   \n",
            "...                               ...                             ...   \n",
            "19995                        7.000000                        7.000000   \n",
            "19996                             NaN                        7.000000   \n",
            "19997                        5.333333                        5.333333   \n",
            "19998                        7.000000                        7.000000   \n",
            "19999                        7.000000                        7.000000   \n",
            "\n",
            "       ENQUIRIES_FROM_NON_BANK_3M_12M  OUTSTANDING_BAL_ALL_CURRENT  \n",
            "0                            3.666667                    1000000.0  \n",
            "1                            7.000000                          NaN  \n",
            "2                            7.000000                    1000620.0  \n",
            "3                            3.666667                    1000170.0  \n",
            "4                            3.666667                    1000270.0  \n",
            "...                               ...                          ...  \n",
            "19995                        7.000000                    1000010.0  \n",
            "19996                        7.000000                    1000020.0  \n",
            "19997                        5.333333                    1001060.0  \n",
            "19998                        7.000000                    1000950.0  \n",
            "19999                        7.000000                    1000100.0  \n",
            "\n",
            "[19986 rows x 124 columns]\n"
          ]
        }
      ],
      "source": [
        "print(df)"
      ]
    },
    {
      "cell_type": "code",
      "execution_count": 16,
      "metadata": {
        "collapsed": true,
        "id": "H2W4uvq2drqi"
      },
      "outputs": [],
      "source": [
        "my_list = ['NUM_NEW_LOAN_TAKEN_3M','NUM_NEW_LOAN_TAKEN_6M','NUM_NEW_LOAN_TAKEN_9M','NUM_NEW_LOAN_TAKEN_12M',\n",
        "           'NUM_NEW_LOAN_TAKEN_BANK_3M','NUM_NEW_LOAN_TAKEN_BANK_6M','NUM_NEW_LOAN_TAKEN_BANK_9M','NUM_NEW_LOAN_TAKEN_BANK_12M',\n",
        "           'NUM_NEW_LOAN_TAKEN_NON_BANK_3M','NUM_NEW_LOAN_TAKEN_NON_BANK_6M','NUM_NEW_LOAN_TAKEN_NON_BANK_9M','NUM_NEW_LOAN_TAKEN_NON_BANK_12M']\n",
        "\n",
        "def NaN_NullCheck2(row):\n",
        "    for name in my_list:\n",
        "        if pd.isnull(row[name]): return True\n",
        "    return False\n",
        "\n",
        "temp2 = df[df.apply(NaN_NullCheck2, axis=1)]\n",
        "\n",
        "df = df[~df.apply(NaN_NullCheck2, axis=1)]"
      ]
    },
    {
      "cell_type": "code",
      "execution_count": 17,
      "metadata": {
        "colab": {
          "base_uri": "https://localhost:8080/"
        },
        "id": "wfLUnmz-h6uY",
        "outputId": "77cba717-0c24-41ac-a1fa-b7617ad525dc"
      },
      "outputs": [
        {
          "name": "stdout",
          "output_type": "stream",
          "text": [
            "       NUM_NEW_LOAN_TAKEN_3M  NUM_NEW_LOAN_TAKEN_6M  NUM_NEW_LOAN_TAKEN_9M  \\\n",
            "0                        1.0                    1.0                    NaN   \n",
            "5                        4.0                    4.0                    4.0   \n",
            "10                       1.0                    2.0                    4.0   \n",
            "13                       4.0                    NaN                    4.0   \n",
            "15                       NaN                   16.0                   19.0   \n",
            "...                      ...                    ...                    ...   \n",
            "19957                    NaN                    4.0                    4.0   \n",
            "19962                    4.0                    4.0                    NaN   \n",
            "19965                    8.0                   10.0                    NaN   \n",
            "19972                    7.0                    NaN                    7.0   \n",
            "19996                    1.0                    1.0                    4.0   \n",
            "\n",
            "       NUM_NEW_LOAN_TAKEN_12M  NUM_NEW_LOAN_TAKEN_BANK_3M  \\\n",
            "0                         1.0                         1.0   \n",
            "5                         8.0                         4.0   \n",
            "10                        4.0                         NaN   \n",
            "13                        4.0                         4.0   \n",
            "15                       22.0                        10.0   \n",
            "...                       ...                         ...   \n",
            "19957                     7.0                         4.0   \n",
            "19962                     4.0                         4.0   \n",
            "19965                    10.0                         4.0   \n",
            "19972                     7.0                         7.0   \n",
            "19996                     4.0                         1.0   \n",
            "\n",
            "       NUM_NEW_LOAN_TAKEN_BANK_6M  NUM_NEW_LOAN_TAKEN_BANK_9M  \\\n",
            "0                             1.0                         1.0   \n",
            "5                             4.0                         NaN   \n",
            "10                            1.0                         4.0   \n",
            "13                            NaN                         4.0   \n",
            "15                           16.0                        19.0   \n",
            "...                           ...                         ...   \n",
            "19957                         4.0                         4.0   \n",
            "19962                         NaN                         4.0   \n",
            "19965                        10.0                        10.0   \n",
            "19972                         7.0                         0.0   \n",
            "19996                         1.0                         NaN   \n",
            "\n",
            "       NUM_NEW_LOAN_TAKEN_BANK_12M  NUM_NEW_LOAN_TAKEN_NON_BANK_3M  \\\n",
            "0                              1.0                             1.0   \n",
            "5                              4.0                             4.0   \n",
            "10                             0.0                             NaN   \n",
            "13                             4.0                             0.0   \n",
            "15                             0.0                             NaN   \n",
            "...                            ...                             ...   \n",
            "19957                          NaN                             NaN   \n",
            "19962                          4.0                             4.0   \n",
            "19965                         10.0                             4.0   \n",
            "19972                          7.0                             7.0   \n",
            "19996                          4.0                             1.0   \n",
            "\n",
            "       NUM_NEW_LOAN_TAKEN_NON_BANK_6M  NUM_NEW_LOAN_TAKEN_NON_BANK_9M  \\\n",
            "0                                 1.0                             NaN   \n",
            "5                                 4.0                             NaN   \n",
            "10                                1.0                             4.0   \n",
            "13                                4.0                             4.0   \n",
            "15                               16.0                            19.0   \n",
            "...                               ...                             ...   \n",
            "19957                             4.0                             4.0   \n",
            "19962                             NaN                             NaN   \n",
            "19965                            10.0                             NaN   \n",
            "19972                             NaN                             7.0   \n",
            "19996                             1.0                             NaN   \n",
            "\n",
            "       NUM_NEW_LOAN_TAKEN_NON_BANK_12M  OUTSTANDING_BAL_LOAN_CURRENT  \n",
            "0                                  1.0                     1000000.0  \n",
            "5                                  4.0                     1000100.0  \n",
            "10                                 4.0                     1000130.0  \n",
            "13                                 4.0                     1000030.0  \n",
            "15                                22.0                           NaN  \n",
            "...                                ...                           ...  \n",
            "19957                              NaN                     1000170.0  \n",
            "19962                              4.0                     1000160.0  \n",
            "19965                             10.0                     1000430.0  \n",
            "19972                              7.0                     1000070.0  \n",
            "19996                              4.0                     1000020.0  \n",
            "\n",
            "[2129 rows x 13 columns]\n"
          ]
        }
      ],
      "source": [
        "print(temp2.iloc[:, 20:33])"
      ]
    },
    {
      "cell_type": "code",
      "execution_count": 18,
      "metadata": {
        "colab": {
          "base_uri": "https://localhost:8080/"
        },
        "id": "nWEOz3yIfont",
        "outputId": "f57564d2-14b6-4883-a0fd-2e082549bd1d"
      },
      "outputs": [
        {
          "name": "stdout",
          "output_type": "stream",
          "text": [
            "NUM_NEW_LOAN_TAKEN_3M : 0\n",
            "NUM_NEW_LOAN_TAKEN_6M : 0\n",
            "NUM_NEW_LOAN_TAKEN_9M : 0\n",
            "NUM_NEW_LOAN_TAKEN_12M : 0\n",
            "NUM_NEW_LOAN_TAKEN_BANK_3M : 0\n",
            "NUM_NEW_LOAN_TAKEN_BANK_6M : 0\n",
            "NUM_NEW_LOAN_TAKEN_BANK_9M : 0\n",
            "NUM_NEW_LOAN_TAKEN_BANK_12M : 0\n",
            "NUM_NEW_LOAN_TAKEN_NON_BANK_3M : 0\n",
            "NUM_NEW_LOAN_TAKEN_NON_BANK_6M : 0\n",
            "NUM_NEW_LOAN_TAKEN_NON_BANK_9M : 0\n",
            "NUM_NEW_LOAN_TAKEN_NON_BANK_12M : 0\n"
          ]
        }
      ],
      "source": [
        "for name in my_list:\n",
        "    print(name, ':', df[name].isnull().sum())"
      ]
    },
    {
      "cell_type": "code",
      "execution_count": 19,
      "metadata": {
        "collapsed": true,
        "id": "t26fD02zlTxh"
      },
      "outputs": [],
      "source": [
        "def fill_Different_features_outstanding(x, y, z):\n",
        "    global df\n",
        "    df[x] = df[x].fillna(df[y] + df[z] - 10**6)\n",
        "    df[y] = df[y].fillna(df[x] + 10**6 - df[z])\n",
        "    df[z] = df[z].fillna(df[x] + 10**6 - df[y])\n",
        "    return"
      ]
    },
    {
      "cell_type": "code",
      "execution_count": 20,
      "metadata": {
        "colab": {
          "base_uri": "https://localhost:8080/"
        },
        "id": "29KWh7uaeteU",
        "outputId": "696e791e-11bb-47ae-feb0-f52d7986652f"
      },
      "outputs": [],
      "source": [
        "fill_Different_features_outstanding('OUTSTANDING_BAL_ALL_3M', 'OUTSTANDING_BAL_LOAN_3M', 'OUTSTANDING_BAL_CC_3M')\n",
        "fill_Different_features_outstanding('OUTSTANDING_BAL_ALL_6M', 'OUTSTANDING_BAL_LOAN_6M', 'OUTSTANDING_BAL_CC_6M')\n",
        "fill_Different_features_outstanding('OUTSTANDING_BAL_ALL_9M', 'OUTSTANDING_BAL_LOAN_9M', 'OUTSTANDING_BAL_CC_9M')\n",
        "fill_Different_features_outstanding('OUTSTANDING_BAL_ALL_12M', 'OUTSTANDING_BAL_LOAN_12M', 'OUTSTANDING_BAL_CC_12M')\n",
        "fill_Different_features_outstanding('OUTSTANDING_BAL_ALL_CURRENT', 'OUTSTANDING_BAL_LOAN_CURRENT', 'OUTSTANDING_BAL_CC_CURRENT')\n",
        "\n",
        "# print(df)"
      ]
    },
    {
      "cell_type": "code",
      "execution_count": 21,
      "metadata": {
        "colab": {
          "base_uri": "https://localhost:8080/"
        },
        "id": "9ra6reZioBM7",
        "outputId": "175dab83-523b-4617-d654-e55d37adab03"
      },
      "outputs": [
        {
          "name": "stdout",
          "output_type": "stream",
          "text": [
            "OUTSTANDING_BAL_LOAN_3M : 341\n",
            "OUTSTANDING_BAL_LOAN_6M : 301\n",
            "OUTSTANDING_BAL_LOAN_9M : 294\n",
            "OUTSTANDING_BAL_LOAN_12M : 338\n",
            "OUTSTANDING_BAL_ALL_CURRENT : 369\n"
          ]
        }
      ],
      "source": [
        "my_list2 = ['OUTSTANDING_BAL_LOAN_3M', 'OUTSTANDING_BAL_LOAN_6M', 'OUTSTANDING_BAL_LOAN_9M', 'OUTSTANDING_BAL_LOAN_12M', 'OUTSTANDING_BAL_ALL_CURRENT']\n",
        "for name in my_list2:\n",
        "    print(name, ':', df[name].isnull().sum())"
      ]
    },
    {
      "cell_type": "code",
      "execution_count": 22,
      "metadata": {
        "id": "9Wi7hml8sq7A"
      },
      "outputs": [],
      "source": [
        "fill_Different_features_outstanding('OUTSTANDING_BAL_LOAN_3M_6M', 'OUTSTANDING_BAL_LOAN_6M', 'OUTSTANDING_BAL_LOAN_3M')\n",
        "fill_Different_features_outstanding('OUTSTANDING_BAL_LOAN_6M_9M', 'OUTSTANDING_BAL_LOAN_9M', 'OUTSTANDING_BAL_LOAN_6M')\n",
        "fill_Different_features_outstanding('OUTSTANDING_BAL_LOAN_9M_12M', 'OUTSTANDING_BAL_LOAN_12M', 'OUTSTANDING_BAL_LOAN_9M')\n",
        "fill_Different_features_outstanding('OUTSTANDING_BAL_LOAN_6M_12M', 'OUTSTANDING_BAL_LOAN_12M', 'OUTSTANDING_BAL_LOAN_6M')\n",
        "fill_Different_features_outstanding('OUTSTANDING_BAL_LOAN_3M_12M', 'OUTSTANDING_BAL_LOAN_12M', 'OUTSTANDING_BAL_LOAN_3M')\n",
        "\n",
        "fill_Different_features_outstanding('OUTSTANDING_BAL_LOAN_3M_6M', 'OUTSTANDING_BAL_LOAN_6M', 'OUTSTANDING_BAL_LOAN_3M')\n",
        "fill_Different_features_outstanding('OUTSTANDING_BAL_LOAN_6M_9M', 'OUTSTANDING_BAL_LOAN_9M', 'OUTSTANDING_BAL_LOAN_6M')\n",
        "fill_Different_features_outstanding('OUTSTANDING_BAL_LOAN_9M_12M', 'OUTSTANDING_BAL_LOAN_12M', 'OUTSTANDING_BAL_LOAN_9M')\n",
        "fill_Different_features_outstanding('OUTSTANDING_BAL_LOAN_6M_12M', 'OUTSTANDING_BAL_LOAN_12M', 'OUTSTANDING_BAL_LOAN_6M')\n",
        "fill_Different_features_outstanding('OUTSTANDING_BAL_LOAN_3M_12M', 'OUTSTANDING_BAL_LOAN_12M', 'OUTSTANDING_BAL_LOAN_3M')"
      ]
    },
    {
      "cell_type": "code",
      "execution_count": 23,
      "metadata": {
        "id": "xq0V6vhPe9bi"
      },
      "outputs": [],
      "source": [
        "fill_Different_features_outstanding('OUTSTANDING_BAL_CC_3M_6M', 'OUTSTANDING_BAL_CC_6M', 'OUTSTANDING_BAL_CC_3M')\n",
        "fill_Different_features_outstanding('OUTSTANDING_BAL_CC_6M_9M', 'OUTSTANDING_BAL_CC_9M', 'OUTSTANDING_BAL_CC_6M')\n",
        "fill_Different_features_outstanding('OUTSTANDING_BAL_CC_9M_12M', 'OUTSTANDING_BAL_CC_12M', 'OUTSTANDING_BAL_CC_9M')\n",
        "fill_Different_features_outstanding('OUTSTANDING_BAL_CC_6M_12M', 'OUTSTANDING_BAL_CC_12M', 'OUTSTANDING_BAL_CC_6M')\n",
        "fill_Different_features_outstanding('OUTSTANDING_BAL_CC_3M_12M', 'OUTSTANDING_BAL_CC_12M', 'OUTSTANDING_BAL_CC_3M')\n",
        "\n",
        "fill_Different_features_outstanding('OUTSTANDING_BAL_CC_3M_6M', 'OUTSTANDING_BAL_CC_6M', 'OUTSTANDING_BAL_CC_3M')\n",
        "fill_Different_features_outstanding('OUTSTANDING_BAL_CC_6M_9M', 'OUTSTANDING_BAL_CC_9M', 'OUTSTANDING_BAL_CC_6M')\n",
        "fill_Different_features_outstanding('OUTSTANDING_BAL_CC_9M_12M', 'OUTSTANDING_BAL_CC_12M', 'OUTSTANDING_BAL_CC_9M')\n",
        "fill_Different_features_outstanding('OUTSTANDING_BAL_CC_6M_12M', 'OUTSTANDING_BAL_CC_12M', 'OUTSTANDING_BAL_CC_6M')\n",
        "fill_Different_features_outstanding('OUTSTANDING_BAL_CC_3M_12M', 'OUTSTANDING_BAL_CC_12M', 'OUTSTANDING_BAL_CC_3M')"
      ]
    },
    {
      "cell_type": "code",
      "execution_count": 24,
      "metadata": {
        "id": "2UrYAhtj4BVB"
      },
      "outputs": [],
      "source": [
        "fill_Different_features_outstanding('OUTSTANDING_BAL_ALL_3M_6M', 'OUTSTANDING_BAL_ALL_6M', 'OUTSTANDING_BAL_ALL_3M')\n",
        "fill_Different_features_outstanding('OUTSTANDING_BAL_ALL_6M_9M', 'OUTSTANDING_BAL_ALL_9M', 'OUTSTANDING_BAL_ALL_6M')\n",
        "fill_Different_features_outstanding('OUTSTANDING_BAL_ALL_9M_12M', 'OUTSTANDING_BAL_ALL_12M', 'OUTSTANDING_BAL_ALL_9M')\n",
        "fill_Different_features_outstanding('OUTSTANDING_BAL_ALL_6M_12M', 'OUTSTANDING_BAL_ALL_12M', 'OUTSTANDING_BAL_ALL_6M')\n",
        "fill_Different_features_outstanding('OUTSTANDING_BAL_ALL_3M_12M', 'OUTSTANDING_BAL_ALL_12M', 'OUTSTANDING_BAL_ALL_3M')\n",
        "\n",
        "fill_Different_features_outstanding('OUTSTANDING_BAL_ALL_3M_6M', 'OUTSTANDING_BAL_ALL_6M', 'OUTSTANDING_BAL_ALL_3M')\n",
        "fill_Different_features_outstanding('OUTSTANDING_BAL_ALL_6M_9M', 'OUTSTANDING_BAL_ALL_9M', 'OUTSTANDING_BAL_ALL_6M')\n",
        "fill_Different_features_outstanding('OUTSTANDING_BAL_ALL_9M_12M', 'OUTSTANDING_BAL_ALL_12M', 'OUTSTANDING_BAL_ALL_9M')\n",
        "fill_Different_features_outstanding('OUTSTANDING_BAL_ALL_6M_12M', 'OUTSTANDING_BAL_ALL_12M', 'OUTSTANDING_BAL_ALL_6M')\n",
        "fill_Different_features_outstanding('OUTSTANDING_BAL_ALL_3M_12M', 'OUTSTANDING_BAL_ALL_12M', 'OUTSTANDING_BAL_ALL_3M')"
      ]
    },
    {
      "cell_type": "code",
      "execution_count": 25,
      "metadata": {
        "id": "ewXRH1dN4EcW"
      },
      "outputs": [],
      "source": [
        "fill_Different_features_outstanding('OUTSTANDING_BAL_ALL_3M', 'OUTSTANDING_BAL_LOAN_3M', 'OUTSTANDING_BAL_CC_3M')\n",
        "fill_Different_features_outstanding('OUTSTANDING_BAL_ALL_6M', 'OUTSTANDING_BAL_LOAN_6M', 'OUTSTANDING_BAL_CC_6M')\n",
        "fill_Different_features_outstanding('OUTSTANDING_BAL_ALL_9M', 'OUTSTANDING_BAL_LOAN_9M', 'OUTSTANDING_BAL_CC_9M')\n",
        "fill_Different_features_outstanding('OUTSTANDING_BAL_ALL_12M', 'OUTSTANDING_BAL_LOAN_12M', 'OUTSTANDING_BAL_CC_12M')\n",
        "fill_Different_features_outstanding('OUTSTANDING_BAL_ALL_CURRENT', 'OUTSTANDING_BAL_LOAN_CURRENT', 'OUTSTANDING_BAL_CC_CURRENT')"
      ]
    },
    {
      "cell_type": "code",
      "execution_count": 26,
      "metadata": {
        "colab": {
          "base_uri": "https://localhost:8080/"
        },
        "collapsed": true,
        "id": "ugQkPAAMvnvP",
        "outputId": "165f153e-16eb-41e0-cd35-deaec61623fa"
      },
      "outputs": [
        {
          "name": "stdout",
          "output_type": "stream",
          "text": [
            "OUTSTANDING_BAL_ALL_3M : 0\n",
            "OUTSTANDING_BAL_ALL_6M : 0\n",
            "OUTSTANDING_BAL_ALL_9M : 0\n",
            "OUTSTANDING_BAL_ALL_12M : 0\n",
            "OUTSTANDING_BAL_ALL_3M_12M : 2\n",
            "OUTSTANDING_BAL_ALL_3M_6M : 2\n",
            "OUTSTANDING_BAL_ALL_6M_9M : 0\n",
            "OUTSTANDING_BAL_ALL_9M_12M : 0\n",
            "OUTSTANDING_BAL_ALL_6M_12M : 0\n",
            "OUTSTANDING_BAL_ALL_3M_12M : 2\n"
          ]
        }
      ],
      "source": [
        "my_list2 = ['OUTSTANDING_BAL_ALL_3M', 'OUTSTANDING_BAL_ALL_6M', 'OUTSTANDING_BAL_ALL_9M', 'OUTSTANDING_BAL_ALL_12M', 'OUTSTANDING_BAL_ALL_3M_12M',\n",
        "            'OUTSTANDING_BAL_ALL_3M_6M', 'OUTSTANDING_BAL_ALL_6M_9M', 'OUTSTANDING_BAL_ALL_9M_12M', 'OUTSTANDING_BAL_ALL_6M_12M', 'OUTSTANDING_BAL_ALL_3M_12M']\n",
        "\n",
        "for name in my_list2:\n",
        "    print(name, ':', df[name].isnull().sum())"
      ]
    },
    {
      "cell_type": "code",
      "execution_count": 27,
      "metadata": {
        "colab": {
          "base_uri": "https://localhost:8080/"
        },
        "collapsed": true,
        "id": "yM3flIESvCts",
        "outputId": "dd08e48c-021b-484b-97bb-0eede0788691"
      },
      "outputs": [
        {
          "name": "stdout",
          "output_type": "stream",
          "text": [
            "OUTSTANDING_BAL_ALL_3M : 0\n",
            "OUTSTANDING_BAL_ALL_6M : 0\n",
            "OUTSTANDING_BAL_ALL_9M : 0\n",
            "OUTSTANDING_BAL_ALL_12M : 0\n",
            "OUTSTANDING_BAL_ALL_3M_12M : 0\n",
            "OUTSTANDING_BAL_ALL_3M_6M : 0\n",
            "OUTSTANDING_BAL_ALL_6M_9M : 0\n",
            "OUTSTANDING_BAL_ALL_9M_12M : 0\n",
            "OUTSTANDING_BAL_ALL_6M_12M : 0\n",
            "OUTSTANDING_BAL_ALL_3M_12M : 0\n"
          ]
        }
      ],
      "source": [
        "def NaN_NullCheck3(row):\n",
        "    for name in my_list2:\n",
        "        if pd.isnull(row[name]): return True\n",
        "    return False\n",
        "\n",
        "df = df[~df.apply(NaN_NullCheck3, axis=1)]\n",
        "\n",
        "for name in my_list2:\n",
        "    print(name, ':', df[name].isnull().sum())"
      ]
    },
    {
      "cell_type": "code",
      "execution_count": 28,
      "metadata": {
        "id": "errQdIant0VR"
      },
      "outputs": [],
      "source": [
        "X = df.iloc[:, [2, 3, 11, 14, 17, 20, 21, 22, 23, 55, 56, 57, 58]]\n",
        "y = df.iloc[:, 1]"
      ]
    },
    {
      "cell_type": "code",
      "execution_count": 29,
      "metadata": {
        "colab": {
          "base_uri": "https://localhost:8080/"
        },
        "id": "JZLVJqjR-_tg",
        "outputId": "2d2effa3-834e-4c0c-dea3-79d26aacb94c"
      },
      "outputs": [
        {
          "name": "stdout",
          "output_type": "stream",
          "text": [
            "       SHORT_TERM_COUNT  MID_TERM_COUNT  NUMBER_OF_LOANS  \\\n",
            "1                  10.0             1.0             10.0   \n",
            "2                   7.0             7.0             13.0   \n",
            "3                   7.0             1.0              7.0   \n",
            "4                   1.0             4.0              4.0   \n",
            "6                   4.0            10.0             13.0   \n",
            "...                 ...             ...              ...   \n",
            "19994               1.0             1.0              1.0   \n",
            "19995               4.0             1.0              4.0   \n",
            "19997               7.0             1.0              7.0   \n",
            "19998              10.0             4.0             13.0   \n",
            "19999               1.0             4.0              4.0   \n",
            "\n",
            "       NUMBER_OF_CREDIT_CARDS  NUM_NEW_LOAN_TAKEN_3M  NUM_NEW_LOAN_TAKEN_6M  \\\n",
            "1                        10.0                    7.0                   10.0   \n",
            "2                         7.0                    7.0                   10.0   \n",
            "3                         7.0                    1.0                    1.0   \n",
            "4                         4.0                    1.0                    4.0   \n",
            "6                        16.0                    4.0                    8.0   \n",
            "...                       ...                    ...                    ...   \n",
            "19994                     1.0                    1.0                    2.0   \n",
            "19995                     1.0                    1.0                    1.0   \n",
            "19997                    13.0                    1.0                    4.0   \n",
            "19998                    13.0                   10.0                   13.0   \n",
            "19999                     4.0                    1.0                    2.0   \n",
            "\n",
            "       NUM_NEW_LOAN_TAKEN_9M  NUM_NEW_LOAN_TAKEN_12M  \\\n",
            "1                       10.0                    13.0   \n",
            "2                       13.0                    13.0   \n",
            "3                        4.0                     4.0   \n",
            "4                        4.0                     4.0   \n",
            "6                       14.0                     7.0   \n",
            "...                      ...                     ...   \n",
            "19994                    2.0                     1.0   \n",
            "19995                    1.0                     4.0   \n",
            "19997                    7.0                     7.0   \n",
            "19998                   13.0                    16.0   \n",
            "19999                    4.0                     4.0   \n",
            "\n",
            "       OUTSTANDING_BAL_ALL_3M_12M  \n",
            "1                    3.000463e+06  \n",
            "2                    3.000037e+06  \n",
            "3                    3.000215e+06  \n",
            "4                    3.000040e+06  \n",
            "6                    3.000028e+06  \n",
            "...                           ...  \n",
            "19994                3.000003e+06  \n",
            "19995                3.000041e+06  \n",
            "19997                3.000029e+06  \n",
            "19998                3.001464e+06  \n",
            "19999                3.000032e+06  \n",
            "\n",
            "[17855 rows x 9 columns]\n"
          ]
        },
        {
          "name": "stderr",
          "output_type": "stream",
          "text": [
            "C:\\Users\\Admin\\AppData\\Local\\Temp\\ipykernel_19684\\3836256895.py:1: SettingWithCopyWarning: \n",
            "A value is trying to be set on a copy of a slice from a DataFrame.\n",
            "Try using .loc[row_indexer,col_indexer] = value instead\n",
            "\n",
            "See the caveats in the documentation: https://pandas.pydata.org/pandas-docs/stable/user_guide/indexing.html#returning-a-view-versus-a-copy\n",
            "  X['OUTSTANDING_BAL_ALL_3M_12M'] = X['OUTSTANDING_BAL_ALL_3M_6M'] + X['OUTSTANDING_BAL_ALL_6M_9M'] + X['OUTSTANDING_BAL_ALL_9M_12M']\n",
            "C:\\Users\\Admin\\AppData\\Local\\Temp\\ipykernel_19684\\3836256895.py:2: SettingWithCopyWarning: \n",
            "A value is trying to be set on a copy of a slice from a DataFrame\n",
            "\n",
            "See the caveats in the documentation: https://pandas.pydata.org/pandas-docs/stable/user_guide/indexing.html#returning-a-view-versus-a-copy\n",
            "  X.drop(columns=['OUTSTANDING_BAL_ALL_3M_6M', 'OUTSTANDING_BAL_ALL_6M_9M', 'OUTSTANDING_BAL_ALL_9M_12M', 'OUTSTANDING_BAL_ALL_6M_12M'], inplace=True)\n",
            "C:\\Users\\Admin\\AppData\\Local\\Temp\\ipykernel_19684\\3836256895.py:3: SettingWithCopyWarning: \n",
            "A value is trying to be set on a copy of a slice from a DataFrame\n",
            "\n",
            "See the caveats in the documentation: https://pandas.pydata.org/pandas-docs/stable/user_guide/indexing.html#returning-a-view-versus-a-copy\n",
            "  X.drop(columns=['NUMBER_OF_RELATIONSHIP'], inplace=True)\n"
          ]
        }
      ],
      "source": [
        "X['OUTSTANDING_BAL_ALL_3M_12M'] = X['OUTSTANDING_BAL_ALL_3M_6M'] + X['OUTSTANDING_BAL_ALL_6M_9M'] + X['OUTSTANDING_BAL_ALL_9M_12M']\n",
        "X.drop(columns=['OUTSTANDING_BAL_ALL_3M_6M', 'OUTSTANDING_BAL_ALL_6M_9M', 'OUTSTANDING_BAL_ALL_9M_12M', 'OUTSTANDING_BAL_ALL_6M_12M'], inplace=True)\n",
        "X.drop(columns=['NUMBER_OF_RELATIONSHIP'], inplace=True)\n",
        "\n",
        "print(X)"
      ]
    },
    {
      "cell_type": "code",
      "execution_count": 30,
      "metadata": {
        "colab": {
          "base_uri": "https://localhost:8080/"
        },
        "id": "lP24yTpTnvWp",
        "outputId": "78d7d1c7-d0d7-4d50-d2b8-996be064e4af"
      },
      "outputs": [
        {
          "name": "stdout",
          "output_type": "stream",
          "text": [
            "       SHORT_TERM_COUNT  MID_TERM_COUNT  NUMBER_OF_LOANS  \\\n",
            "0              1.087495       -0.733444         0.333928   \n",
            "1              0.262424        1.161317         0.972355   \n",
            "2              0.262424       -0.733444        -0.304500   \n",
            "3             -1.387718        0.213937        -0.942928   \n",
            "4             -0.562647        2.108697         0.972355   \n",
            "...                 ...             ...              ...   \n",
            "17850         -1.387718       -0.733444        -1.581356   \n",
            "17851         -0.562647       -0.733444        -0.942928   \n",
            "17852          0.262424       -0.733444        -0.304500   \n",
            "17853          1.087495        0.213937         0.972355   \n",
            "17854         -1.387718        0.213937        -0.942928   \n",
            "\n",
            "       NUMBER_OF_CREDIT_CARDS  NUM_NEW_LOAN_TAKEN_3M  NUM_NEW_LOAN_TAKEN_6M  \\\n",
            "0                    0.905429               0.848694               0.920067   \n",
            "1                    0.332760               0.848694               0.920067   \n",
            "2                    0.332760              -0.867210              -1.129423   \n",
            "3                   -0.239908              -0.867210              -0.446259   \n",
            "4                    2.050766              -0.009258               0.464625   \n",
            "...                       ...                    ...                    ...   \n",
            "17850               -0.812577              -0.867210              -0.901702   \n",
            "17851               -0.812577              -0.867210              -1.129423   \n",
            "17852                1.478097              -0.867210              -0.446259   \n",
            "17853                1.478097               1.706647               1.603230   \n",
            "17854               -0.239908              -0.867210              -0.901702   \n",
            "\n",
            "       NUM_NEW_LOAN_TAKEN_9M  NUM_NEW_LOAN_TAKEN_12M  \\\n",
            "0                   0.561907                0.920543   \n",
            "1                   1.163229                0.920543   \n",
            "2                  -0.640736               -0.726765   \n",
            "3                  -0.640736               -0.726765   \n",
            "4                   1.363670               -0.177663   \n",
            "...                      ...                     ...   \n",
            "17850              -1.041618               -1.275868   \n",
            "17851              -1.242058               -0.726765   \n",
            "17852              -0.039415               -0.177663   \n",
            "17853               1.163229                1.469646   \n",
            "17854              -0.640736               -0.726765   \n",
            "\n",
            "       OUTSTANDING_BAL_ALL_3M_12M  \n",
            "0                        0.012392  \n",
            "1                       -0.138219  \n",
            "2                       -0.075342  \n",
            "3                       -0.137127  \n",
            "4                       -0.141456  \n",
            "...                           ...  \n",
            "17850                   -0.150329  \n",
            "17851                   -0.136807  \n",
            "17852                   -0.141140  \n",
            "17853                    0.366369  \n",
            "17854                   -0.140092  \n",
            "\n",
            "[17855 rows x 9 columns]\n"
          ]
        }
      ],
      "source": [
        "from sklearn.preprocessing import StandardScaler\n",
        "\n",
        "scaler = StandardScaler()\n",
        "X_scaled = scaler.fit_transform(X)\n",
        "\n",
        "X = pd.DataFrame(X_scaled, columns=X.columns)\n",
        "\n",
        "print(X)"
      ]
    },
    {
      "cell_type": "code",
      "execution_count": 31,
      "metadata": {
        "id": "xr8WiJ3ybO5W"
      },
      "outputs": [],
      "source": [
        "from sklearn.model_selection import train_test_split\n",
        "\n",
        "X_train, X_test, y_train, y_test = train_test_split(X, y, test_size=0.2, stratify=y, random_state=42)"
      ]
    },
    {
      "cell_type": "markdown",
      "metadata": {
        "id": "-RNiWeYN_RhO"
      },
      "source": [
        "GRID SEARCH CV for LOGISTIC REGRESSION"
      ]
    },
    {
      "cell_type": "code",
      "execution_count": 32,
      "metadata": {
        "colab": {
          "base_uri": "https://localhost:8080/"
        },
        "collapsed": true,
        "id": "idGeJ3SsNK77",
        "outputId": "c3fc331c-4944-4af9-8546-3c511f03a50c"
      },
      "outputs": [
        {
          "name": "stdout",
          "output_type": "stream",
          "text": [
            "Best Parameters: {'C': 10, 'penalty': 'l1', 'solver': 'liblinear'}\n",
            "Best Recall Score: 0.3978647764449291\n",
            "Recall on Test Set: 0.3673780487804878\n"
          ]
        }
      ],
      "source": [
        "from sklearn.linear_model import LogisticRegression\n",
        "from sklearn.model_selection import GridSearchCV\n",
        "from sklearn.metrics import recall_score\n",
        "\n",
        "# Define the model and parameter grid\n",
        "model = LogisticRegression()\n",
        "param_grid = {\n",
        "    'penalty': ['l1', 'l2'],\n",
        "    'C': [0.001, 0.01, 0.1, 1, 10, 100],\n",
        "    'solver': ['liblinear']  # Suitable for both l1 and l2 penalty\n",
        "}\n",
        "\n",
        "# Create GridSearchCV object with recall scoring\n",
        "grid_search = GridSearchCV(estimator=model, param_grid=param_grid, scoring='recall', cv=5)\n",
        "\n",
        "# Fit the grid search to your training data\n",
        "grid_search.fit(X_train, y_train)\n",
        "\n",
        "# Print the best parameters and the best score\n",
        "print(\"Best Parameters:\", grid_search.best_params_)\n",
        "print(\"Best Recall Score:\", grid_search.best_score_)\n",
        "\n",
        "# Evaluate the best model on the test set\n",
        "y_pred = grid_search.predict(X_test)\n",
        "recall = recall_score(y_test, y_pred)\n",
        "print(\"Recall on Test Set:\", recall)\n"
      ]
    },
    {
      "cell_type": "markdown",
      "metadata": {
        "id": "ZQL84fFi_HGu"
      },
      "source": [
        "LOGISTIC REGRESSION MODEL"
      ]
    },
    {
      "cell_type": "code",
      "execution_count": 33,
      "metadata": {
        "colab": {
          "base_uri": "https://localhost:8080/"
        },
        "collapsed": true,
        "id": "Q3naUw_3uHYw",
        "outputId": "14f4397e-22d2-41ae-8e95-c57f56d7d549"
      },
      "outputs": [
        {
          "name": "stdout",
          "output_type": "stream",
          "text": [
            "Accuracy: 0.8826659199103892\n",
            "              precision    recall  f1-score   support\n",
            "\n",
            "           0       0.88      1.00      0.93      2915\n",
            "           1       0.98      0.37      0.53       656\n",
            "\n",
            "    accuracy                           0.88      3571\n",
            "   macro avg       0.93      0.68      0.73      3571\n",
            "weighted avg       0.90      0.88      0.86      3571\n",
            "\n"
          ]
        }
      ],
      "source": [
        "from sklearn.linear_model import LogisticRegression\n",
        "from sklearn.metrics import accuracy_score, classification_report\n",
        "\n",
        "# Create a logistic regression model\n",
        "model_lr = LogisticRegression(max_iter=3000, C=10, penalty='l1', solver='liblinear', random_state=42)\n",
        "\n",
        "# Train the model\n",
        "model_lr.fit(X_train, y_train)\n",
        "\n",
        "# Make predictions on the test set\n",
        "y_pred = model_lr.predict(X_test)\n",
        "\n",
        "# Evaluate the model\n",
        "accuracy = accuracy_score(y_test, y_pred)\n",
        "print(f\"Accuracy: {accuracy}\")\n",
        "\n",
        "print(classification_report(y_test, y_pred))\n"
      ]
    },
    {
      "cell_type": "markdown",
      "metadata": {
        "id": "rATf2uTu_Zmo"
      },
      "source": [
        "GRID SEARCH CV for DECISION TREE CLASSIFIER"
      ]
    },
    {
      "cell_type": "code",
      "execution_count": 34,
      "metadata": {
        "colab": {
          "base_uri": "https://localhost:8080/"
        },
        "collapsed": true,
        "id": "A3RrT2QM42ig",
        "outputId": "2afde7df-5a6d-4354-eea3-f3ba1baf3127"
      },
      "outputs": [
        {
          "name": "stdout",
          "output_type": "stream",
          "text": [
            "Best Parameters: {'criterion': 'entropy', 'min_samples_leaf': 1, 'min_samples_split': 2}\n",
            "Best Recall Score: 0.507618320610687\n",
            "Recall on Test Set: 0.4801829268292683\n"
          ]
        }
      ],
      "source": [
        "from sklearn.model_selection import GridSearchCV\n",
        "from sklearn.tree import DecisionTreeClassifier\n",
        "from sklearn.metrics import recall_score\n",
        "\n",
        "# Define the model and parameter grid\n",
        "model = DecisionTreeClassifier(random_state=42)\n",
        "param_grid = {\n",
        "    'criterion': ['gini', 'entropy'],\n",
        "    'min_samples_split': [2, 3, 4],\n",
        "    'min_samples_leaf': [1, 2, 3]\n",
        "}\n",
        "\n",
        "# Create GridSearchCV object with recall scoring\n",
        "grid_search = GridSearchCV(estimator=model, param_grid=param_grid, scoring='recall', cv=5)\n",
        "\n",
        "# Fit the grid search to your training data\n",
        "grid_search.fit(X_train, y_train)\n",
        "\n",
        "# Print the best parameters and the best score\n",
        "print(\"Best Parameters:\", grid_search.best_params_)\n",
        "print(\"Best Recall Score:\", grid_search.best_score_)\n",
        "\n",
        "# Evaluate the best model on the test set\n",
        "y_pred = grid_search.predict(X_test)\n",
        "recall = recall_score(y_test, y_pred)\n",
        "print(\"Recall on Test Set:\", recall)\n"
      ]
    },
    {
      "cell_type": "markdown",
      "metadata": {
        "id": "RORzvjGS_hon"
      },
      "source": [
        "DECISION TREE CLASSIFIER MODEL"
      ]
    },
    {
      "cell_type": "code",
      "execution_count": 35,
      "metadata": {
        "colab": {
          "base_uri": "https://localhost:8080/"
        },
        "collapsed": true,
        "id": "xrAp5g5juOUy",
        "outputId": "ce237fc5-9c3d-4919-a389-50ba8469f25f"
      },
      "outputs": [
        {
          "name": "stdout",
          "output_type": "stream",
          "text": [
            "Decision Tree Accuracy: 0.8129375525063007\n",
            "              precision    recall  f1-score   support\n",
            "\n",
            "           0       0.89      0.89      0.89      2915\n",
            "           1       0.49      0.49      0.49       656\n",
            "\n",
            "    accuracy                           0.81      3571\n",
            "   macro avg       0.69      0.69      0.69      3571\n",
            "weighted avg       0.81      0.81      0.81      3571\n",
            "\n"
          ]
        }
      ],
      "source": [
        "from sklearn.tree import DecisionTreeClassifier\n",
        "from sklearn.metrics import accuracy_score, classification_report\n",
        "\n",
        "# Create a Decision Tree model\n",
        "model_dt = DecisionTreeClassifier(criterion='gini', max_depth=3000, min_samples_leaf=1, min_samples_split=2, random_state=42)\n",
        "\n",
        "# Train the model\n",
        "model_dt.fit(X_train, y_train)\n",
        "\n",
        "# Make predictions on the test set\n",
        "y_pred_dt = model_dt.predict(X_test)\n",
        "\n",
        "# Evaluate the model\n",
        "accuracy_dt = accuracy_score(y_test, y_pred_dt)\n",
        "print(f\"Decision Tree Accuracy: {accuracy_dt}\")\n",
        "\n",
        "print(classification_report(y_test, y_pred_dt))"
      ]
    },
    {
      "cell_type": "markdown",
      "metadata": {
        "id": "IzNZIpbj_mSH"
      },
      "source": [
        "RANDOM FOREST CLASSIFIER MODEL"
      ]
    },
    {
      "cell_type": "code",
      "execution_count": 36,
      "metadata": {
        "colab": {
          "base_uri": "https://localhost:8080/"
        },
        "collapsed": true,
        "id": "v_gei7JuuOW_",
        "outputId": "2fd0000a-487d-4e08-f3c7-c10261c66525"
      },
      "outputs": [
        {
          "name": "stdout",
          "output_type": "stream",
          "text": [
            "Random Forest Accuracy: 0.8479417530103612\n",
            "              precision    recall  f1-score   support\n",
            "\n",
            "           0       0.89      0.93      0.91      2915\n",
            "           1       0.61      0.48      0.54       656\n",
            "\n",
            "    accuracy                           0.85      3571\n",
            "   macro avg       0.75      0.71      0.72      3571\n",
            "weighted avg       0.84      0.85      0.84      3571\n",
            "\n"
          ]
        }
      ],
      "source": [
        "from sklearn.ensemble import RandomForestClassifier\n",
        "\n",
        "# Create a Random Forest model\n",
        "model_rf = RandomForestClassifier(criterion='gini', n_estimators=3, max_depth=3000, min_samples_leaf=1, min_samples_split=2, random_state=42)\n",
        "\n",
        "# Train the model\n",
        "model_rf.fit(X_train, y_train)\n",
        "\n",
        "# Make predictions on the test set\n",
        "y_pred_rf = model_rf.predict(X_test)\n",
        "\n",
        "# Evaluate the model\n",
        "accuracy_rf = accuracy_score(y_test, y_pred_rf)\n",
        "print(f\"Random Forest Accuracy: {accuracy_rf}\")\n",
        "\n",
        "print(classification_report(y_test, y_pred_rf))\n"
      ]
    },
    {
      "cell_type": "markdown",
      "metadata": {
        "id": "J-LocROQ_qEH"
      },
      "source": [
        "XG BOOST CLASSIFIER MODEL"
      ]
    },
    {
      "cell_type": "code",
      "execution_count": 37,
      "metadata": {
        "colab": {
          "base_uri": "https://localhost:8080/"
        },
        "collapsed": true,
        "id": "OdY8VXkzm43D",
        "outputId": "3a19b95f-3bf2-426d-ae19-ef59ae000c05"
      },
      "outputs": [
        {
          "name": "stdout",
          "output_type": "stream",
          "text": [
            "XGBoost Accuracy: 0.8706244749369925\n",
            "              precision    recall  f1-score   support\n",
            "\n",
            "           0       0.89      0.97      0.92      2915\n",
            "           1       0.75      0.44      0.56       656\n",
            "\n",
            "    accuracy                           0.87      3571\n",
            "   macro avg       0.82      0.71      0.74      3571\n",
            "weighted avg       0.86      0.87      0.86      3571\n",
            "\n"
          ]
        }
      ],
      "source": [
        "from xgboost import XGBClassifier\n",
        "from sklearn.model_selection import train_test_split\n",
        "from sklearn.metrics import accuracy_score, classification_report\n",
        "\n",
        "# Create an XGBoost classifier\n",
        "model_xgb = XGBClassifier(colsample_bytree=1, learning_rate=0.01, max_depth=1000, n_estimators=1000, subsample=1, random_state=42)\n",
        "\n",
        "# Train the model\n",
        "model_xgb.fit(X_train, y_train)\n",
        "\n",
        "# Make predictions on the test set\n",
        "y_pred_xgb = model_xgb.predict(X_test)\n",
        "\n",
        "# Evaluate the model\n",
        "accuracy_xgb = accuracy_score(y_test, y_pred_xgb)\n",
        "print(f\"XGBoost Accuracy: {accuracy_xgb}\")\n",
        "\n",
        "print(classification_report(y_test, y_pred_xgb))"
      ]
    },
    {
      "cell_type": "markdown",
      "metadata": {
        "id": "z4hHGEwu_vup"
      },
      "source": [
        "GAUSSIAN NAIVE BAYES MODEL"
      ]
    },
    {
      "cell_type": "code",
      "execution_count": 38,
      "metadata": {
        "colab": {
          "base_uri": "https://localhost:8080/"
        },
        "collapsed": true,
        "id": "BV0juW21nB_c",
        "outputId": "26b49566-ae6a-47f2-be5e-33f26940ea37"
      },
      "outputs": [
        {
          "name": "stdout",
          "output_type": "stream",
          "text": [
            "Naive Bayes Accuracy: 0.6605992719126296\n",
            "              precision    recall  f1-score   support\n",
            "\n",
            "           0       0.91      0.64      0.76      2915\n",
            "           1       0.32      0.73      0.44       656\n",
            "\n",
            "    accuracy                           0.66      3571\n",
            "   macro avg       0.62      0.69      0.60      3571\n",
            "weighted avg       0.80      0.66      0.70      3571\n",
            "\n"
          ]
        }
      ],
      "source": [
        "from sklearn.naive_bayes import GaussianNB\n",
        "from sklearn.metrics import accuracy_score, classification_report\n",
        "\n",
        "# Create a Gaussian Naive Bayes model\n",
        "model_nb = GaussianNB()\n",
        "\n",
        "# Train the model\n",
        "model_nb.fit(X_train, y_train)\n",
        "\n",
        "# Make predictions on the test set\n",
        "y_pred_nb = model_nb.predict(X_test)\n",
        "\n",
        "# Evaluate the model\n",
        "accuracy_nb = accuracy_score(y_test, y_pred_nb)\n",
        "print(f\"Naive Bayes Accuracy: {accuracy_nb}\")\n",
        "\n",
        "print(classification_report(y_test, y_pred_nb))"
      ]
    },
    {
      "cell_type": "code",
      "execution_count": 39,
      "metadata": {
        "colab": {
          "base_uri": "https://localhost:8080/",
          "height": 206
        },
        "id": "hfbvdjHE7309",
        "outputId": "738a9ca5-27e9-4fb2-84ff-5f43df3b1210"
      },
      "outputs": [
        {
          "data": {
            "text/html": [
              "<div>\n",
              "<style scoped>\n",
              "    .dataframe tbody tr th:only-of-type {\n",
              "        vertical-align: middle;\n",
              "    }\n",
              "\n",
              "    .dataframe tbody tr th {\n",
              "        vertical-align: top;\n",
              "    }\n",
              "\n",
              "    .dataframe thead th {\n",
              "        text-align: right;\n",
              "    }\n",
              "</style>\n",
              "<table border=\"1\" class=\"dataframe\">\n",
              "  <thead>\n",
              "    <tr style=\"text-align: right;\">\n",
              "      <th></th>\n",
              "      <th>Model</th>\n",
              "      <th>Accuracy</th>\n",
              "      <th>Recall (macro avg)</th>\n",
              "      <th>Precision (macro avg)</th>\n",
              "      <th>F1-Score (macro avg)</th>\n",
              "    </tr>\n",
              "  </thead>\n",
              "  <tbody>\n",
              "    <tr>\n",
              "      <th>0</th>\n",
              "      <td>Logistic Regression</td>\n",
              "      <td>0.882666</td>\n",
              "      <td>0.683003</td>\n",
              "      <td>0.929449</td>\n",
              "      <td>0.733912</td>\n",
              "    </tr>\n",
              "    <tr>\n",
              "      <th>1</th>\n",
              "      <td>Decision Tree</td>\n",
              "      <td>0.812938</td>\n",
              "      <td>0.688137</td>\n",
              "      <td>0.688137</td>\n",
              "      <td>0.688137</td>\n",
              "    </tr>\n",
              "    <tr>\n",
              "      <th>2</th>\n",
              "      <td>Random Forest</td>\n",
              "      <td>0.847942</td>\n",
              "      <td>0.706034</td>\n",
              "      <td>0.748730</td>\n",
              "      <td>0.723436</td>\n",
              "    </tr>\n",
              "    <tr>\n",
              "      <th>3</th>\n",
              "      <td>XGBoost</td>\n",
              "      <td>0.870624</td>\n",
              "      <td>0.705161</td>\n",
              "      <td>0.817664</td>\n",
              "      <td>0.740854</td>\n",
              "    </tr>\n",
              "    <tr>\n",
              "      <th>4</th>\n",
              "      <td>Naive Bayes</td>\n",
              "      <td>0.660599</td>\n",
              "      <td>0.688743</td>\n",
              "      <td>0.615812</td>\n",
              "      <td>0.599270</td>\n",
              "    </tr>\n",
              "  </tbody>\n",
              "</table>\n",
              "</div>"
            ],
            "text/plain": [
              "                 Model  Accuracy  Recall (macro avg)  Precision (macro avg)  \\\n",
              "0  Logistic Regression  0.882666            0.683003               0.929449   \n",
              "1        Decision Tree  0.812938            0.688137               0.688137   \n",
              "2        Random Forest  0.847942            0.706034               0.748730   \n",
              "3              XGBoost  0.870624            0.705161               0.817664   \n",
              "4          Naive Bayes  0.660599            0.688743               0.615812   \n",
              "\n",
              "   F1-Score (macro avg)  \n",
              "0              0.733912  \n",
              "1              0.688137  \n",
              "2              0.723436  \n",
              "3              0.740854  \n",
              "4              0.599270  "
            ]
          },
          "metadata": {},
          "output_type": "display_data"
        }
      ],
      "source": [
        "from sklearn.metrics import accuracy_score, classification_report, recall_score, precision_score, f1_score\n",
        "\n",
        "models = {\n",
        "    \"Logistic Regression\": model_lr,  # Assuming 'model' is your trained Logistic Regression model\n",
        "    \"Decision Tree\": model_dt,       # Assuming 'model_dt' is your trained Decision Tree model\n",
        "    \"Random Forest\": model_rf,      # Assuming 'model_rf' is your trained Random Forest model\n",
        "    \"XGBoost\": model_xgb,          # Assuming 'model_xgb' is your trained XGBoost model\n",
        "    \"Naive Bayes\": model_nb        # Assuming 'model_nb' is your trained Naive Bayes model\n",
        "}\n",
        "\n",
        "data = []\n",
        "for model_name, model in models.items():\n",
        "    y_pred = model.predict(X_test)  # Assuming 'X_test' is your test data\n",
        "    accuracy = accuracy_score(y_test, y_pred)  # Assuming 'y_test' is your test labels\n",
        "    recall = recall_score(y_test, y_pred, average='macro')  # Macro average for recall\n",
        "    precision = precision_score(y_test, y_pred, average='macro', zero_division=1) # Macro average for precision (handle zero division)\n",
        "    f1 = f1_score(y_test, y_pred, average='macro')  # Macro average for F1-score\n",
        "    data.append([model_name, accuracy, recall, precision, f1])\n",
        "\n",
        "# Create a Pandas DataFrame for the table\n",
        "df_scores = pd.DataFrame(data, columns=[\"Model\", \"Accuracy\", \"Recall (macro avg)\", \"Precision (macro avg)\", \"F1-Score (macro avg)\"])\n",
        "\n",
        "# Display the table\n",
        "display(df_scores)"
      ]
    },
    {
      "cell_type": "code",
      "execution_count": 40,
      "metadata": {},
      "outputs": [],
      "source": [
        "from sklearn.metrics import roc_auc_score, roc_curve\n",
        "import matplotlib.pyplot as plt\n",
        "import numpy as np\n",
        "\n",
        "def calculate_metrics(model, X_test_pca, y_test):\n",
        "    y_pred_prob = model.predict_proba(X_test_pca)[:, 1]  # Probabilities for the positive class\n",
        "\n",
        "    # AUC\n",
        "    auc = roc_auc_score(y_test, y_pred_prob)\n",
        "\n",
        "    # Gini\n",
        "    gini = 2 * auc - 1\n",
        "\n",
        "    # KS\n",
        "    fpr, tpr, thresholds = roc_curve(y_test, y_pred_prob)\n",
        "    ks = np.max(tpr - fpr)\n",
        "\n",
        "    # Return the metrics as needed\n",
        "    return {\n",
        "        'auc': auc,\n",
        "        'gini': gini,\n",
        "        'ks': ks\n",
        "    }"
      ]
    },
    {
      "cell_type": "code",
      "execution_count": 42,
      "metadata": {},
      "outputs": [
        {
          "data": {
            "text/html": [
              "<div>\n",
              "<style scoped>\n",
              "    .dataframe tbody tr th:only-of-type {\n",
              "        vertical-align: middle;\n",
              "    }\n",
              "\n",
              "    .dataframe tbody tr th {\n",
              "        vertical-align: top;\n",
              "    }\n",
              "\n",
              "    .dataframe thead th {\n",
              "        text-align: right;\n",
              "    }\n",
              "</style>\n",
              "<table border=\"1\" class=\"dataframe\">\n",
              "  <thead>\n",
              "    <tr style=\"text-align: right;\">\n",
              "      <th></th>\n",
              "      <th>Model</th>\n",
              "      <th>AUC</th>\n",
              "      <th>Gini</th>\n",
              "      <th>KS</th>\n",
              "    </tr>\n",
              "  </thead>\n",
              "  <tbody>\n",
              "    <tr>\n",
              "      <th>0</th>\n",
              "      <td>Logistic Regression</td>\n",
              "      <td>0.795864</td>\n",
              "      <td>0.591729</td>\n",
              "      <td>0.459894</td>\n",
              "    </tr>\n",
              "    <tr>\n",
              "      <th>1</th>\n",
              "      <td>Decision Tree</td>\n",
              "      <td>0.712522</td>\n",
              "      <td>0.425045</td>\n",
              "      <td>0.419638</td>\n",
              "    </tr>\n",
              "    <tr>\n",
              "      <th>2</th>\n",
              "      <td>Random Forest</td>\n",
              "      <td>0.733513</td>\n",
              "      <td>0.467025</td>\n",
              "      <td>0.416068</td>\n",
              "    </tr>\n",
              "    <tr>\n",
              "      <th>3</th>\n",
              "      <td>XGBoost</td>\n",
              "      <td>0.762542</td>\n",
              "      <td>0.525084</td>\n",
              "      <td>0.448031</td>\n",
              "    </tr>\n",
              "    <tr>\n",
              "      <th>4</th>\n",
              "      <td>Naive Bayes</td>\n",
              "      <td>0.778252</td>\n",
              "      <td>0.556505</td>\n",
              "      <td>0.430693</td>\n",
              "    </tr>\n",
              "  </tbody>\n",
              "</table>\n",
              "</div>"
            ],
            "text/plain": [
              "                 Model       AUC      Gini        KS\n",
              "0  Logistic Regression  0.795864  0.591729  0.459894\n",
              "1        Decision Tree  0.712522  0.425045  0.419638\n",
              "2        Random Forest  0.733513  0.467025  0.416068\n",
              "3              XGBoost  0.762542  0.525084  0.448031\n",
              "4          Naive Bayes  0.778252  0.556505  0.430693"
            ]
          },
          "metadata": {},
          "output_type": "display_data"
        }
      ],
      "source": [
        "data = []\n",
        "for model_name, model in models.items():\n",
        "    metrics = calculate_metrics(model, X_test, y_test)\n",
        "    data.append([model_name, metrics['auc'], metrics['gini'], metrics['ks']])\n",
        "\n",
        "# Create a Pandas DataFrame\n",
        "df_metrics = pd.DataFrame(data, columns=[\"Model\", \"AUC\", \"Gini\", \"KS\"])\n",
        "\n",
        "# Display the table\n",
        "display(df_metrics)"
      ]
    }
  ],
  "metadata": {
    "colab": {
      "gpuType": "T4",
      "provenance": []
    },
    "kernelspec": {
      "display_name": ".venv",
      "language": "python",
      "name": "python3"
    },
    "language_info": {
      "codemirror_mode": {
        "name": "ipython",
        "version": 3
      },
      "file_extension": ".py",
      "mimetype": "text/x-python",
      "name": "python",
      "nbconvert_exporter": "python",
      "pygments_lexer": "ipython3",
      "version": "3.12.4"
    }
  },
  "nbformat": 4,
  "nbformat_minor": 0
}
